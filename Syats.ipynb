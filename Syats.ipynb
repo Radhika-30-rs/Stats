{
  "nbformat": 4,
  "nbformat_minor": 0,
  "metadata": {
    "colab": {
      "provenance": []
    },
    "kernelspec": {
      "name": "python3",
      "display_name": "Python 3"
    },
    "language_info": {
      "name": "python"
    }
  },
  "cells": [
    {
      "cell_type": "markdown",
      "source": [
        "ques1-**What is statistics, and why is it important?**\n",
        "\n",
        "AnswerStatistics is the science of collecting, analyzing, interpreting, and presenting data to draw conclusions and make informed decisions. It's important because it helps us understand trends, patterns, and relationships within data, allowing us to make predictions and identify potential problems."
      ],
      "metadata": {
        "id": "95FO-bVzuznv"
      }
    },
    {
      "cell_type": "markdown",
      "source": [
        "ques2-**What are the two main types of statistics**\n",
        "\n",
        "\n",
        "Answer -descriptive statistics and inferential statistics."
      ],
      "metadata": {
        "id": "GJD4pOevwqWL"
      }
    },
    {
      "cell_type": "markdown",
      "source": [
        "ques3 -**What are descriptive statistics?**\n",
        "\n",
        "Answer-Descriptive statistics are used to summarize and describe the key features of a dataset, focusing on presenting the data in a meaningful and concise way without making generalizations or inferences about a larger population."
      ],
      "metadata": {
        "id": "awwy52P1w1Qm"
      }
    },
    {
      "cell_type": "markdown",
      "source": [
        "ques 4-**What is inferential statistics?**\n",
        "\n",
        "Answer-Inferential statistics allows us to make predictions, draw conclusions, and generalize insights from a sample to an entire population."
      ],
      "metadata": {
        "id": "LtOGxL8LxBYZ"
      }
    },
    {
      "cell_type": "markdown",
      "source": [
        "ques 5-**What is sampling in statistics**\n",
        "\n",
        "Answer- Sampling is a process used in statistical analysis in which a group of observations are extracted from a larger population."
      ],
      "metadata": {
        "id": "xuJ37yE3xMGO"
      }
    },
    {
      "cell_type": "markdown",
      "source": [
        "ques 6-**What are the different types of sampling methods**\n",
        "\n",
        "Answer- probability sampling and non-probability sampling"
      ],
      "metadata": {
        "id": "AbJ7qpdExuJO"
      }
    },
    {
      "cell_type": "markdown",
      "source": [
        "ques 7-**What is the difference between random and non-random sampling**\n",
        "\n",
        "Answer-The key difference between random (probability) sampling and non-random (non-probability) sampling lies in the selection process and the ability to generalize findings. Random sampling ensures every member of the population has an equal chance of being selected, aiming for a representative sample and unbiased results. Non-random sampling uses criteria other than chance, potentially leading to biased results and limiting the ability to generalize findings to the entire population.\n",
        "\n"
      ],
      "metadata": {
        "id": "BxhyC31rx2nq"
      }
    },
    {
      "cell_type": "markdown",
      "source": [
        "ques 8-**Define and give examples of qualitative and quantitative data**\n",
        "\n",
        "Answer-Qualitative data describes qualities or characteristics, while quantitative data represents numerical measurements or counts. Qualitative data is descriptive, often involving language, text, and observations. Quantitative data, on the other hand, is expressed numerically and can be counted or measured.\n",
        "\n",
        "Qualitative Data Examples:Colors, shapes, textures, tastes, smells, sounds\n",
        "\n",
        "Quantitative Data Examples:Height, weight, temperature, age, distance, speed."
      ],
      "metadata": {
        "id": "C0Lofg1KyOA9"
      }
    },
    {
      "cell_type": "markdown",
      "source": [
        "ques 9-**What are the different types of data in statistics**\n",
        "\n",
        "Answer-In statistics, data is broadly classified into qualitative (categorical) and quantitative (numerical) types, which are further subdivided into nominal, ordinal, discrete, and continuous."
      ],
      "metadata": {
        "id": "Hi_mtva4ymHr"
      }
    },
    {
      "cell_type": "markdown",
      "source": [
        "ques 10-**Explain nominal, ordinal, interval, and ratio levels of measurement**\n",
        "\n",
        "Answer-**Nominal**\n",
        "\n",
        "This is the most basic level of measurement, where data is categorized but not ordered. Examples include gender (male, female), eye color (blue, brown, green), or blood type (A, B, AB, O).\n",
        "\n",
        "**Ordinal:**\n",
        "\n",
        "Ordinal data can be categorized and ranked, but the intervals between the categories may not be equal or meaningful. Examples include rankings in a race (first, second, third), satisfaction levels (very dissatisfied, dissatisfied, neutral, satisfied, very satisfied), or income levels (low, medium, high).\n",
        "\n",
        "**Interval:**\n",
        "\n",
        "Interval data is ordered, and the difference between two values is meaningful and equal. However, there is no true zero point. Temperature (Celsius or Fahrenheit) is a good example. Zero degrees Celsius does not represent a lack of heat, and the difference between 10°C and 20°C is the same as the difference between 20°C and 30°C\n",
        "\n",
        "**Ratio:**\n",
        "\n",
        "Ratio data is the most sophisticated level of measurement. It's ordered, has equal intervals, and has a true zero point. Examples include height, weight, distance, and age. A zero in height means there is no height, and the ratio between two heights is meaningful"
      ],
      "metadata": {
        "id": "eWpMTTSuy1RS"
      }
    },
    {
      "cell_type": "markdown",
      "source": [
        "ques 11-**What is the measure of central tendency**\n",
        "\n",
        "Answer-A measure of central tendency (also referred to as measures of centre or central location) is a summary measure that attempts to describe a whole set of data with a single value that represents the middle or centre of its distribution."
      ],
      "metadata": {
        "id": "wh7z-TGj0Ena"
      }
    },
    {
      "cell_type": "markdown",
      "source": [
        "ques12-**Define mean, median, and mode**\n",
        "\n",
        "Answer-Mean:\n",
        "The arithmetic average, found by summing all numbers in a dataset and dividing by the total count of numbers.\n",
        "\n",
        "Median:\n",
        "The middle value when a dataset is arranged in ascending or descending order. If there's an even number of values, the median is the average of the two middle values.\n",
        "\n",
        "Mode:\n",
        "The value that appears most frequently within a dataset. A dataset can have no mode, one mode, or multiple modes."
      ],
      "metadata": {
        "id": "hBYwg_pT0TIQ"
      }
    },
    {
      "cell_type": "markdown",
      "source": [
        "ques 13-**What is the significance of the measure of central tendenc**\n",
        "\n",
        "Answer-Measures of central tendency, like mean, median, and mode, are crucial in statistics because they provide a single value that represents the center or typical value of a dataset, allowing for concise data summarization, comparison between datasets, and decision-making based on the central values."
      ],
      "metadata": {
        "id": "RHpTbMpq0hOV"
      }
    },
    {
      "cell_type": "markdown",
      "source": [
        "ques 14-**What is variance, and how is it calculated**\n",
        "\n",
        "Answer-Variance is a statistical measure that quantifies the spread or dispersion of a set of data points from their mean (average)\n",
        "\n",
        "Calculate the mean (average): Sum all the data points and divide by the number of points.\n",
        "Find the difference from the mean: Subtract the mean from each data point.\n",
        "Square the differences: Square each of the differences calculated in the previous step.\n",
        "Calculate the average of the squared differences: Sum all the squared differences and divide by the number of data points. This is the sample variance.\n",
        "For population variance: Divide the sum of squared differences by the total number of data points in the population."
      ],
      "metadata": {
        "id": "CXZxlGDJ0sx9"
      }
    },
    {
      "cell_type": "markdown",
      "source": [
        "ques 15-**What is standard deviation, and why is it important**\n",
        "\n",
        "Answer-Standard deviation is a measure of how spread out data points are from the average (mean) value in a datasetStandard deviation quantifies the amount of variation in a set of data points. In other words, it tells us how much the individual data points deviate from the average value. A smaller standard deviation signifies that data points are closely packed together, while a larger one indicates a more spread-out dataset."
      ],
      "metadata": {
        "id": "H0n44N501qIN"
      }
    },
    {
      "cell_type": "markdown",
      "source": [
        "ques 16-**Define and explain the term range in statistics**\n",
        "\n",
        "Answer-In statistics, the range is a measure of dispersion that represents the difference between the largest and smallest values in a dataset. It's calculated by subtracting the minimum value from the maximum value. Essentially, it shows how much spread there is in the data"
      ],
      "metadata": {
        "id": "P9LeqKOc16Up"
      }
    },
    {
      "cell_type": "markdown",
      "source": [
        "ques 17-**What is the difference between variance and standard deviation**\n",
        "\n",
        "Answer-Variance and standard deviation are both measures of data spread (dispersion), but they differ in how they're calculated and what units they use. Variance is the average of the squared differences from the mean, while standard deviation is the square root of the variance. Standard deviation is expressed in the same units as the original data, whereas variance is expressed in squared units."
      ],
      "metadata": {
        "id": "c2s90_Hc2Inx"
      }
    },
    {
      "cell_type": "markdown",
      "source": [
        "ques 18-**What is skewness in a dataset**\n",
        "\n",
        "Answer-Skewness in a dataset refers to the degree of asymmetry in its distribution. It measures how much the data deviates from a symmetrical bell curve, indicating whether the distribution is skewed to the left (negative skew) or the right (positive skew)."
      ],
      "metadata": {
        "id": "asm_-P1N2Tbs"
      }
    },
    {
      "cell_type": "markdown",
      "source": [
        "ques19-**What does it mean if a dataset is positively or negatively skewed**\n",
        "\n",
        "Answer-A positively skewed dataset has more data points on the lower end of the distribution and a longer tail extending to the right. This means that a few high values are pulling the mean higher than the median. Conversely, a negatively skewed dataset has more data points on the higher end and a longer tail extending to the left, with the mean being lower than the median due to a few low values pulling it down."
      ],
      "metadata": {
        "id": "NWkZjAsr2gvC"
      }
    },
    {
      "cell_type": "markdown",
      "source": [
        "ques 20-**5 Define and explain kurtosis**\n",
        "\n",
        "Answer-Kurtosis is a statistical measure that describes the shape of a probability distribution's tails in relation to its peak. It helps determine if a distribution has \"heavy\" or \"light\" tails compared to a normal distribution, indicating the presence and extent of outliers."
      ],
      "metadata": {
        "id": "5LdGz_TF2-en"
      }
    },
    {
      "cell_type": "markdown",
      "source": [
        "ques 21-**What is the purpose of covariance**\n",
        "\n",
        "Answer-Covariance in statistics helps determine the direction of the relationship between two variables. It indicates whether two variables tend to move in the same (positive covariance) or opposite (negative covariance) directions. While covariance can give a sense of the relationship, it doesn't quantify the strength of that relationship, which is done by correlation.\n"
      ],
      "metadata": {
        "id": "yJwa4Mca3J6-"
      }
    },
    {
      "cell_type": "markdown",
      "source": [
        "ques 22-**What does correlation measure in statistics**\n",
        "\n",
        "Answer-n statistics, correlation measures the strength and direction of the relationship between two variables"
      ],
      "metadata": {
        "id": "sUt1TyAu3W7w"
      }
    },
    {
      "cell_type": "markdown",
      "source": [
        "ques 23-**What is the difference between covariance and correlation**\n",
        "\n",
        "AnswerCovariance and correlation are both statistical measures of the relationship between two variables, but they differ in how they quantify that relationship. Covariance measures the direction (positive or negative) of the linear relationship, while correlation measures both the direction and the strength of that relationship, and is normalized to a scale of -1 to +1."
      ],
      "metadata": {
        "id": "hsPaUbCp3gCP"
      }
    },
    {
      "cell_type": "markdown",
      "source": [
        "ques 24-**What are some real-world applications of statistics?**\n",
        "\n",
        "Answer-Statistics is widely used in various real-world applications, including business decision-making, scientific research, healthcare, and market research. It helps analyze data, identify trends, and make informed decisions across diverse fields like finance, education, and sports.\n",
        "\n",
        "1. Business and Economics:\n",
        "Market Research:\n",
        "Businesses use statistical methods to analyze market trends, consumer behavior, and predict demand for products or services"
      ],
      "metadata": {
        "id": "5f0rF1D-3tE1"
      }
    },
    {
      "cell_type": "markdown",
      "source": [
        "**Practical ques**"
      ],
      "metadata": {
        "id": "p3NE_Qn-4Be3"
      }
    },
    {
      "cell_type": "markdown",
      "source": [
        "ques 1-** How do you calculate the mean, median, and mode of a dataset**\n",
        "\n",
        "Answer-Mean= sum of all  values/number of values\n"
      ],
      "metadata": {
        "id": "zl4Tlu1L4GSs"
      }
    },
    {
      "cell_type": "code",
      "source": [
        " Mean of 2,3,4,6\n",
        "   =2+3+4+6/4\n",
        "\n",
        "   Median\n",
        "   dataset= 3,1,4\n",
        "    sorted :1,3,4\n",
        "\n",
        "    meadian= 3(middle number)\n",
        "\n",
        "    Mode\n",
        "    Data set =2,4,5,4,6,8\n",
        "    Mode= 4\n"
      ],
      "metadata": {
        "id": "GfRGtip14OdI"
      },
      "execution_count": null,
      "outputs": []
    },
    {
      "cell_type": "markdown",
      "source": [
        "ques 2-**Write a Python program to compute the variance and standard deviation of a dataset*"
      ],
      "metadata": {
        "id": "Q5ptosyj7-6U"
      }
    },
    {
      "cell_type": "code",
      "source": [
        "import math\n",
        "data=[10,12,13,45,34,18]\n",
        "mean = sum(data) / len(data)\n",
        "variance = sum((x-mean) ** 2 for x in data) / len(data)\n",
        "standard_deviation = math.sqrt(variance)\n",
        "print(f\"Mean: {mean}\")\n",
        "print(f\"Variance:{variance}\")\n",
        "print(f\"Standard_deviation:{standard_deviation}\")"
      ],
      "metadata": {
        "colab": {
          "base_uri": "https://localhost:8080/"
        },
        "id": "PtVOYZI58N42",
        "outputId": "3cec39a5-7190-4780-93ff-eb884aa58223"
      },
      "execution_count": null,
      "outputs": [
        {
          "output_type": "stream",
          "name": "stdout",
          "text": [
            "Mean: 22.0\n",
            "Variance:169.0\n",
            "Standard_deviation:13.0\n"
          ]
        }
      ]
    },
    {
      "cell_type": "markdown",
      "source": [
        "ques 3-**Create a dataset and classify it into nominal, ordinal, interval, and ratio types**\n",
        "\n",
        "Nominal Data:\n",
        "Nominal data represents categories without any inherent order. It's all about labeling or naming distinct groups. For example, let's look at College of Vocational Studies:\n",
        "\n",
        "Variable                           Value\n",
        "  \n",
        "---\n",
        "\n",
        "\n",
        "\n",
        "Region                         Delhi, Haryana, Mumbai, Bangalore\n",
        "\n",
        "---\n",
        "\n",
        "Gender                        Male, Female, Other\n",
        "\n",
        "\n",
        "---\n",
        "\n",
        "\n",
        "Payment Method              Card, Cash, Mobile\n",
        "\n",
        "---\n",
        "\n",
        "\n",
        "Nationality                            Indian, American, Canadian"
      ],
      "metadata": {
        "id": "Nz-gOmVN-W46"
      }
    },
    {
      "cell_type": "markdown",
      "source": [
        "ques 4-**Implement sampling techniques like random sampling and stratified sampling**\n",
        "\n",
        "Answer-In a stratified sampling method, the total population is divided into smaller groups to complete the sampling process. The small group is formed based on a few characteristics in the population. After separating the population into a smaller group, the statisticians randomly select the sample.\n",
        "\n",
        "For example,  there are three bags (A, B and C), each with different balls. Bag A has 50 balls, bag B has 100 balls, and bag C has 200 balls. We have to choose a sample of balls from each bag proportionally. Suppose 5 balls from bag A, 10 balls from bag B and 20 balls from bag C.\n",
        "\n",
        "In simple random sampling technique, every item in the population has an equal and likely chance of being selected in the sample. Since the item selection entirely depends on the chance, this method is known as “Method of chance Selection”. As the sample size is large, and the item is chosen randomly, it is known as “Representative Sampling”.\n",
        "\n",
        "Example:\n",
        "\n",
        "Suppose we want to select a simple random sample of 200 students from a school. Here, we can assign a number to every student in the school database from 1 to 500 and use a random number generator to select a sample of 200 numbers."
      ],
      "metadata": {
        "id": "tyjYuTsL-y5q"
      }
    },
    {
      "cell_type": "markdown",
      "source": [
        "ques 5**Write a Python function to calculate the range of a dataset**"
      ],
      "metadata": {
        "id": "vMXy1TsAAwoe"
      }
    },
    {
      "cell_type": "code",
      "source": [
        "\n",
        "def calculate_range(data):\n",
        "  if not data:\n",
        "     return None\n",
        "  return max(data) - min(data)\n",
        "dataset = [10,25,34,18,40]\n",
        "range_value = calculate_range(dataset)\n",
        "print(f\"Range:{range_value}\")\n"
      ],
      "metadata": {
        "colab": {
          "base_uri": "https://localhost:8080/"
        },
        "id": "D5RHKynoA-EW",
        "outputId": "835ef1ce-431d-46f1-d16c-5c86070238db"
      },
      "execution_count": null,
      "outputs": [
        {
          "output_type": "stream",
          "name": "stdout",
          "text": [
            "Range:30\n"
          ]
        }
      ]
    },
    {
      "cell_type": "markdown",
      "source": [
        "ques 6-**5 Create a dataset and plot its histogram to visualize skewness**"
      ],
      "metadata": {
        "id": "55ym_COpCArn"
      }
    },
    {
      "cell_type": "code",
      "source": [
        "import matplotlib.pyplot as plt\n",
        "import random\n",
        "from scipy.stats import skew\n",
        "oe9_scores = [random.randint(1,10) for _ in range(100)]\n",
        "skewness_value = skew(oe9_scores)\n",
        "\n",
        "plt.hist(oe9_scores, bins=10 , edgecolor='black', color='skyblue')\n",
        "\n",
        "plt.title('Histogram of OE9 Scores')\n",
        "plt.xlabel('Score')\n",
        "plt.ylabel('Frequency')\n",
        "plt.gride(axis='y', linestyle='--', alpha=0.7)\n",
        "plt.text(6,10,f\"Skewness:{skewness_value:.2f}\", fontsize=12, color='red')\n",
        "plt.show()"
      ],
      "metadata": {
        "colab": {
          "base_uri": "https://localhost:8080/",
          "height": 666
        },
        "id": "nkw7ITf-CMWr",
        "outputId": "4ebb60d2-d2fc-4256-fb45-b107fc403f41"
      },
      "execution_count": null,
      "outputs": [
        {
          "output_type": "error",
          "ename": "AttributeError",
          "evalue": "module 'matplotlib.pyplot' has no attribute 'gride'",
          "traceback": [
            "\u001b[0;31m---------------------------------------------------------------------------\u001b[0m",
            "\u001b[0;31mAttributeError\u001b[0m                            Traceback (most recent call last)",
            "\u001b[0;32m<ipython-input-23-7479a1c74d24>\u001b[0m in \u001b[0;36m<cell line: 0>\u001b[0;34m()\u001b[0m\n\u001b[1;32m     10\u001b[0m \u001b[0mplt\u001b[0m\u001b[0;34m.\u001b[0m\u001b[0mxlabel\u001b[0m\u001b[0;34m(\u001b[0m\u001b[0;34m'Score'\u001b[0m\u001b[0;34m)\u001b[0m\u001b[0;34m\u001b[0m\u001b[0;34m\u001b[0m\u001b[0m\n\u001b[1;32m     11\u001b[0m \u001b[0mplt\u001b[0m\u001b[0;34m.\u001b[0m\u001b[0mylabel\u001b[0m\u001b[0;34m(\u001b[0m\u001b[0;34m'Frequency'\u001b[0m\u001b[0;34m)\u001b[0m\u001b[0;34m\u001b[0m\u001b[0;34m\u001b[0m\u001b[0m\n\u001b[0;32m---> 12\u001b[0;31m \u001b[0mplt\u001b[0m\u001b[0;34m.\u001b[0m\u001b[0mgride\u001b[0m\u001b[0;34m(\u001b[0m\u001b[0maxis\u001b[0m\u001b[0;34m=\u001b[0m\u001b[0;34m'y'\u001b[0m\u001b[0;34m,\u001b[0m \u001b[0mlinestyle\u001b[0m\u001b[0;34m=\u001b[0m\u001b[0;34m'--'\u001b[0m\u001b[0;34m,\u001b[0m \u001b[0malpha\u001b[0m\u001b[0;34m=\u001b[0m\u001b[0;36m0.7\u001b[0m\u001b[0;34m)\u001b[0m\u001b[0;34m\u001b[0m\u001b[0;34m\u001b[0m\u001b[0m\n\u001b[0m\u001b[1;32m     13\u001b[0m \u001b[0mplt\u001b[0m\u001b[0;34m.\u001b[0m\u001b[0mtext\u001b[0m\u001b[0;34m(\u001b[0m\u001b[0;36m6\u001b[0m\u001b[0;34m,\u001b[0m\u001b[0;36m10\u001b[0m\u001b[0;34m,\u001b[0m\u001b[0;34mf\"Skewness:{skewness_value:.2f}\"\u001b[0m\u001b[0;34m,\u001b[0m \u001b[0mfontsize\u001b[0m\u001b[0;34m=\u001b[0m\u001b[0;36m12\u001b[0m\u001b[0;34m,\u001b[0m \u001b[0mcolor\u001b[0m\u001b[0;34m=\u001b[0m\u001b[0;34m'red'\u001b[0m\u001b[0;34m)\u001b[0m\u001b[0;34m\u001b[0m\u001b[0;34m\u001b[0m\u001b[0m\n\u001b[1;32m     14\u001b[0m \u001b[0mplt\u001b[0m\u001b[0;34m.\u001b[0m\u001b[0mshow\u001b[0m\u001b[0;34m(\u001b[0m\u001b[0;34m)\u001b[0m\u001b[0;34m\u001b[0m\u001b[0;34m\u001b[0m\u001b[0m\n",
            "\u001b[0;31mAttributeError\u001b[0m: module 'matplotlib.pyplot' has no attribute 'gride'"
          ]
        },
        {
          "output_type": "display_data",
          "data": {
            "text/plain": [
              "<Figure size 640x480 with 1 Axes>"
            ],
            "image/png": "[encoded data removed]"
          },
          "metadata": {}
        }
      ]
    },
    {
      "cell_type": "markdown",
      "source": [
        "ques 7**Calculate skewness and kurtosis of a dataset using Python libraries**"
      ],
      "metadata": {
        "id": "XrLPiiYLDkG3"
      }
    },
    {
      "cell_type": "code",
      "source": [
        "import random\n",
        "from scipy.stats import skew, kurtosis\n",
        "data = [random.randint(1,10) for _ in range(100)]\n",
        "skewness = skew(data)\n",
        "kurt = kurtosis\n",
        "print(f\"Skewness: {skewness:.2f}\")\n",
        "print(f\"Kurtosis: {kurt:.2f}\")"
      ],
      "metadata": {
        "colab": {
          "base_uri": "https://localhost:8080/",
          "height": 193
        },
        "id": "4_owOWoXBhSy",
        "outputId": "026d6f2d-9990-4b5d-d297-a176530f654b"
      },
      "execution_count": null,
      "outputs": [
        {
          "output_type": "stream",
          "name": "stdout",
          "text": [
            "Skewness: 0.32\n"
          ]
        },
        {
          "output_type": "error",
          "ename": "TypeError",
          "evalue": "unsupported format string passed to function.__format__",
          "traceback": [
            "\u001b[0;31m---------------------------------------------------------------------------\u001b[0m",
            "\u001b[0;31mTypeError\u001b[0m                                 Traceback (most recent call last)",
            "\u001b[0;32m<ipython-input-24-a6ef4557a2dc>\u001b[0m in \u001b[0;36m<cell line: 0>\u001b[0;34m()\u001b[0m\n\u001b[1;32m      5\u001b[0m \u001b[0mkurt\u001b[0m \u001b[0;34m=\u001b[0m \u001b[0mkurtosis\u001b[0m\u001b[0;34m\u001b[0m\u001b[0;34m\u001b[0m\u001b[0m\n\u001b[1;32m      6\u001b[0m \u001b[0mprint\u001b[0m\u001b[0;34m(\u001b[0m\u001b[0;34mf\"Skewness: {skewness:.2f}\"\u001b[0m\u001b[0;34m)\u001b[0m\u001b[0;34m\u001b[0m\u001b[0;34m\u001b[0m\u001b[0m\n\u001b[0;32m----> 7\u001b[0;31m \u001b[0mprint\u001b[0m\u001b[0;34m(\u001b[0m\u001b[0;34mf\"Kurtosis: {kurt:.2f}\"\u001b[0m\u001b[0;34m)\u001b[0m\u001b[0;34m\u001b[0m\u001b[0;34m\u001b[0m\u001b[0m\n\u001b[0m",
            "\u001b[0;31mTypeError\u001b[0m: unsupported format string passed to function.__format__"
          ]
        }
      ]
    },
    {
      "cell_type": "markdown",
      "source": [
        "ques 8-**Generate a dataset and demonstrate positive and negative skewness**"
      ],
      "metadata": {
        "id": "Gu8HCUJJGhaH"
      }
    },
    {
      "cell_type": "code",
      "source": [
        "import matplotlib.pyplot as plt\n",
        "import numpy as np\n",
        "from scipy.stats import skew\n",
        "positive_skew = np.random.exponential(scale=2,size=1000)\n",
        "negative_skew = -np.random.exponential(scale=2,size=1000)\n",
        "pos_skewness = skew(positive_skew)\n",
        "neg_skewness = skew(negative_skew)\n",
        "\n",
        "fig, axs = plt.subplots(1,2, figsize=(12,5))\n",
        "axs[0].hist(positive_skew , bins=30,color='skyblue' , edgecolor='black')\n",
        "axs[0].set_xlabel('Value')\n",
        "axs[0].set_ylabel('Frequency')\n",
        "axs[0].grid(axis='y',linestyle='--',alpha=0.6)\n",
        "\n",
        "axs[1].hist(negative_skew, bins=30,\n",
        "color='lightcoral',edgecolor='black')\n",
        "axs[1].set_title(f'Negative Skewness\\nSkew:{neg_skewness:.2f}')\n",
        "axs[1].set_xlabel('Value')\n",
        "axs[1].set_ylabel('Frequency')\n",
        "axs[1].grid(axis='y',linestyle='--',alpha=0.6)\n",
        "plt.tight_layout()\n",
        "plt.show()"
      ],
      "metadata": {
        "colab": {
          "base_uri": "https://localhost:8080/",
          "height": 506
        },
        "id": "s2MeJxR1G60o",
        "outputId": "836c7612-d300-4fe2-825b-7a8862e49eff"
      },
      "execution_count": null,
      "outputs": [
        {
          "output_type": "display_data",
          "data": {
            "text/plain": [
              "<Figure size 1200x500 with 2 Axes>"
            ],
            "image/png": "[encoded data removed]"
          },
          "metadata": {}
        }
      ]
    },
    {
      "cell_type": "markdown",
      "source": [
        "ques 9**Write a Python script to calculate covariance between two datasets**"
      ],
      "metadata": {
        "id": "Bm0ob9dXKGls"
      }
    },
    {
      "cell_type": "code",
      "source": [
        "import numpy as np\n",
        "data1 = [12,13,15,20,27,28]\n",
        "data2 = [5,6,6,7,8,20]\n",
        "variance1 = np.var(data1,ddof=1)\n",
        "variance2 = np.var(data2,ddof=1)\n",
        "print(f\"Variance of dataset 1:{variance1:.2f}\")\n",
        "print(f\"Variance of dataset 2:{variance2:.2f}\")\n",
        "if  variance1 > variance2:\n",
        "  print(\"Dataset 1 has more variability.\")\n",
        "elif variance2 < variance1:\n",
        "  print(\"Dataset 2 has more variability.\")\n",
        "else:\n",
        "  print(\"Both datasets have equal variability.\")"
      ],
      "metadata": {
        "colab": {
          "base_uri": "https://localhost:8080/"
        },
        "id": "EZ3w06eDKOyV",
        "outputId": "f4779e38-b625-48bd-eee8-335b59fef583"
      },
      "execution_count": null,
      "outputs": [
        {
          "output_type": "stream",
          "name": "stdout",
          "text": [
            "Variance of dataset 1:49.37\n",
            "Variance of dataset 2:31.87\n",
            "Dataset 1 has more variability.\n"
          ]
        }
      ]
    },
    {
      "cell_type": "markdown",
      "source": [
        "ques 10-**Write a Python script to calculate the correlation coefficient between two datasets**"
      ],
      "metadata": {
        "id": "Rjl21K8KLvCV"
      }
    },
    {
      "cell_type": "code",
      "source": [
        "import numpy as np\n",
        "x= [10,20,30,40,50]\n",
        "y = [12,24,33,45,55]\n",
        "correlation_matrix = np.corrcoef(x,y)\n",
        "correlation = correlation_matrix[0,1]\n",
        "print(f\"Correlation coefficient between the datasets: {correlation:.2f}\")"
      ],
      "metadata": {
        "colab": {
          "base_uri": "https://localhost:8080/"
        },
        "id": "mU8dLxuNGT_6",
        "outputId": "409a0daf-a25c-44e6-91c0-9365a6885a85"
      },
      "execution_count": null,
      "outputs": [
        {
          "output_type": "stream",
          "name": "stdout",
          "text": [
            "Correlation coefficient between the datasets: 1.00\n"
          ]
        }
      ]
    },
    {
      "cell_type": "markdown",
      "source": [
        "ques11**Write a Python script to calculate the correlation coefficient between two datasets**"
      ],
      "metadata": {
        "id": "Mf5_jHsoNDnO"
      }
    },
    {
      "cell_type": "code",
      "source": [
        "import numpy as np\n",
        "from scipy.stats import pearsonr\n",
        "def calculate_correlation(data1,data2):\n",
        "  \"\"\"\n",
        "  Calculate the Pearson correlation\n",
        "coefficient between two datasets.\n",
        "\n",
        "  Parameters:\n",
        "  data1 (list or np.ndarray): First\n",
        "dataset.\n",
        "\n",
        "  Returns:\n",
        "   float: Pearson correlation coefficient.\n",
        "  \"\"\"\n",
        "\n",
        "\n",
        "  data1 = np.array(data1)\n",
        "  data2 = np.array(data2)\n",
        "\n",
        "  if data1. shape != data2.shape:\n",
        "     raise ValueError(\"Datasets must  be of the same length\")\n",
        "\n",
        "  correlation, _ =pearsonr(data1,data2)\n",
        "  return correlation\n",
        "\n",
        "if __name__ == \"__main__\":\n",
        "  dataset1 = [1,2,3,4,5]\n",
        "  dataset2 = [2,4,6,8,10]\n",
        "\n",
        "  corr =calculate_correlation(dataset1,dataset2)\n",
        "  print(f\"Pearson correlation coefficient:{corr}\")"
      ],
      "metadata": {
        "id": "hf7Se7AFL5xj",
        "colab": {
          "base_uri": "https://localhost:8080/"
        },
        "outputId": "3ce06cf9-6085-4991-895a-bfbe09e937f8"
      },
      "execution_count": null,
      "outputs": [
        {
          "output_type": "stream",
          "name": "stdout",
          "text": [
            "Pearson correlation coefficient:1.0\n"
          ]
        }
      ]
    },
    {
      "cell_type": "markdown",
      "source": [
        "ques 12-**Implement and compare simple random sampling and systematic sampling**"
      ],
      "metadata": {
        "id": "wNfZW1YvFqsW"
      }
    },
    {
      "cell_type": "code",
      "source": [
        "import pandas as pd\n",
        "import numpy as np\n",
        "import matplotlib.pyplot as plt\n",
        "\n",
        "def simple_random_sampling(data,sample_size,seed=None):\n",
        "  return data.sample(n=sample_size,random_state=seed)\n",
        "\n",
        "def systematic_sampling(data,sample_size):\n",
        "  step = len(data) // sample_size\n",
        "  start = np.random.randint(0, step)\n",
        "  indices = np.arrange(start, start +step *sample_size,step)\n",
        "  return data.iloc[indices[:sample_size]]\n",
        "np.random.seed(42)\n",
        "population = pd.DataFrame({'ID':np.arrange(1,1001),'Value':np.random.normal(loc=50,scale=10,size=1000)})\n"
      ],
      "metadata": {
        "id": "4HQ5jc_yGIRR"
      },
      "execution_count": null,
      "outputs": []
    },
    {
      "cell_type": "markdown",
      "source": [
        "ques 13-**5 Calculate the mean, median, and mode of grouped data**"
      ],
      "metadata": {
        "id": "EvFhCxDIH6eG"
      }
    },
    {
      "cell_type": "code",
      "source": [
        "import pandas as pd\n",
        "import numpy as np\n",
        "from statistics import mode\n",
        "data = {'Class Interval': ['0-10' ,'10-20' ,'20-30','30-40','40-50'],\n",
        "        'Frequency':[5,8,15,16,6]\n",
        "        }\n",
        "df = pd.DataFrame(data)\n",
        "def get_midpoint(interval):\n",
        "  lower , upper =map(int,interval.spli('-'))\n",
        "  return (lower +upper)/ 2\n",
        "\n",
        "df['Midpoint'] = df['Class Interval'].apply(get_midpoint)\n",
        "df['f*x'] = df['Frequency'] * df['Midpoint']\n",
        "mean =df['f*x'].sum() / df['Frequency'].sum()\n",
        "#Median:\n",
        "#Find cf\n",
        "df['Cumulative Frequency'] = df['Frequencty'].cumsum()\n",
        "n= df['Frequency'].sum()\n",
        "median_class_index = df[df['Cumulative Frequency'] >= n/2].index[0]\n",
        "#2.Extract Values\n",
        "L = int(df.loc[median_class_index, 'Class Interval'].split('-')[0])\n",
        "F = df['Frequency'][median_class_index]\n",
        "CF = df['Cumulative Frequency']\n",
        "[median_class_index - 1] if meadin_class_index"
      ],
      "metadata": {
        "id": "mP_MjkQsIKfk"
      },
      "execution_count": null,
      "outputs": []
    },
    {
      "cell_type": "markdown",
      "source": [
        "ques 14-**Simulate data using Python and calculate its central tendency and dispersion.**"
      ],
      "metadata": {
        "id": "0Ae3TytvNhW4"
      }
    },
    {
      "cell_type": "code",
      "source": [
        "import numpy as np\n",
        "import pandas as pd\n",
        "from scipy import stats\n",
        "np.random.seed(42)\n",
        "data = np.random.normal(loc=50,scale=10,size=1000)\n",
        "data_series = pd.Series(data)\n",
        "mean = data_series.mean()\n",
        "median = data_series.median()\n",
        "mode = data_series.mode()[0]\n",
        "data_range =  data_series.max() - data_series.min()\n",
        "iqr = stats.iqr(data_series)\n",
        "print(\"Central Tendancy Measures:\")\n",
        "print(f\"Mean: {mean:.2f}\")\n",
        "print(f\"Median: {median:.2f}\")\n",
        "print(f\"Mode: {mode:.2f}\\n\")\n",
        "\n",
        "print(\"Dispersion Measures:\")\n",
        "print(f\"variance: {variance:.2f}\")\n",
        "print(f\"Standard Deviation:{std_dev:.2f}\")\n",
        "print(f\"Range: {data_range:.2f}\")\n",
        "print(f\"IQR: {iqr:.2f}\")"
      ],
      "metadata": {
        "colab": {
          "base_uri": "https://localhost:8080/",
          "height": 315
        },
        "id": "WqCbh4iRNpNi",
        "outputId": "1acb9829-eb37-4f39-b125-1335710cabf8"
      },
      "execution_count": null,
      "outputs": [
        {
          "output_type": "stream",
          "name": "stdout",
          "text": [
            "Central Tendancy Measures:\n",
            "Mean: 50.19\n",
            "Median: 50.25\n",
            "Mode: 17.59\n",
            "\n",
            "Dispersion Measures:\n"
          ]
        },
        {
          "output_type": "error",
          "ename": "NameError",
          "evalue": "name 'variance' is not defined",
          "traceback": [
            "\u001b[0;31m---------------------------------------------------------------------------\u001b[0m",
            "\u001b[0;31mNameError\u001b[0m                                 Traceback (most recent call last)",
            "\u001b[0;32m<ipython-input-13-4312593925ee>\u001b[0m in \u001b[0;36m<cell line: 0>\u001b[0;34m()\u001b[0m\n\u001b[1;32m     16\u001b[0m \u001b[0;34m\u001b[0m\u001b[0m\n\u001b[1;32m     17\u001b[0m \u001b[0mprint\u001b[0m\u001b[0;34m(\u001b[0m\u001b[0;34m\"Dispersion Measures:\"\u001b[0m\u001b[0;34m)\u001b[0m\u001b[0;34m\u001b[0m\u001b[0;34m\u001b[0m\u001b[0m\n\u001b[0;32m---> 18\u001b[0;31m \u001b[0mprint\u001b[0m\u001b[0;34m(\u001b[0m\u001b[0;34mf\"variance: {variance:.2f}\"\u001b[0m\u001b[0;34m)\u001b[0m\u001b[0;34m\u001b[0m\u001b[0;34m\u001b[0m\u001b[0m\n\u001b[0m\u001b[1;32m     19\u001b[0m \u001b[0mprint\u001b[0m\u001b[0;34m(\u001b[0m\u001b[0;34mf\"Standard Deviation:{std_dev:.2f}\"\u001b[0m\u001b[0;34m)\u001b[0m\u001b[0;34m\u001b[0m\u001b[0;34m\u001b[0m\u001b[0m\n\u001b[1;32m     20\u001b[0m \u001b[0mprint\u001b[0m\u001b[0;34m(\u001b[0m\u001b[0;34mf\"Range: {data_range:.2f}\"\u001b[0m\u001b[0;34m)\u001b[0m\u001b[0;34m\u001b[0m\u001b[0;34m\u001b[0m\u001b[0m\n",
            "\u001b[0;31mNameError\u001b[0m: name 'variance' is not defined"
          ]
        }
      ]
    },
    {
      "cell_type": "markdown",
      "source": [
        "ques15-**Use NumPy or pandas to summarize a dataset’s descriptive statistics**"
      ],
      "metadata": {
        "id": "MshKEZG_QjAA"
      }
    },
    {
      "cell_type": "code",
      "source": [
        "import numpy as pd\n",
        "import numpy as np\n",
        "data = {\n",
        "    'Age' [25,30,22,28,35,40],\n",
        "    'Score'[88,76,90,85,79,92]\n",
        "}\n",
        "df = pd.DataFrame(data)\n",
        "summary= df.describe()\n",
        "print(f\"Descriptive Statistics (Pandas):\")\n",
        "print(summary)\n"
      ],
      "metadata": {
        "colab": {
          "base_uri": "https://localhost:8080/",
          "height": 349
        },
        "id": "bjTnONSjQmjU",
        "outputId": "cb3bdf0a-60a8-4040-bb54-bc11d6ef37cc"
      },
      "execution_count": null,
      "outputs": [
        {
          "output_type": "stream",
          "name": "stderr",
          "text": [
            "<>:4: SyntaxWarning: str indices must be integers or slices, not tuple; perhaps you missed a comma?\n",
            "<>:5: SyntaxWarning: str indices must be integers or slices, not tuple; perhaps you missed a comma?\n",
            "<>:4: SyntaxWarning: str indices must be integers or slices, not tuple; perhaps you missed a comma?\n",
            "<>:5: SyntaxWarning: str indices must be integers or slices, not tuple; perhaps you missed a comma?\n",
            "<ipython-input-15-7d2b1ee03833>:4: SyntaxWarning: str indices must be integers or slices, not tuple; perhaps you missed a comma?\n",
            "  'Age' [25,30,22,28,35,40],\n",
            "<ipython-input-15-7d2b1ee03833>:5: SyntaxWarning: str indices must be integers or slices, not tuple; perhaps you missed a comma?\n",
            "  'Score'[88,76,90,85,79,92]\n"
          ]
        },
        {
          "output_type": "error",
          "ename": "TypeError",
          "evalue": "string indices must be integers, not 'tuple'",
          "traceback": [
            "\u001b[0;31m---------------------------------------------------------------------------\u001b[0m",
            "\u001b[0;31mTypeError\u001b[0m                                 Traceback (most recent call last)",
            "\u001b[0;32m<ipython-input-15-7d2b1ee03833>\u001b[0m in \u001b[0;36m<cell line: 0>\u001b[0;34m()\u001b[0m\n\u001b[1;32m      2\u001b[0m \u001b[0;32mimport\u001b[0m \u001b[0mnumpy\u001b[0m \u001b[0;32mas\u001b[0m \u001b[0mnp\u001b[0m\u001b[0;34m\u001b[0m\u001b[0;34m\u001b[0m\u001b[0m\n\u001b[1;32m      3\u001b[0m data = {\n\u001b[0;32m----> 4\u001b[0;31m     \u001b[0;34m'Age'\u001b[0m \u001b[0;34m[\u001b[0m\u001b[0;36m25\u001b[0m\u001b[0;34m,\u001b[0m\u001b[0;36m30\u001b[0m\u001b[0;34m,\u001b[0m\u001b[0;36m22\u001b[0m\u001b[0;34m,\u001b[0m\u001b[0;36m28\u001b[0m\u001b[0;34m,\u001b[0m\u001b[0;36m35\u001b[0m\u001b[0;34m,\u001b[0m\u001b[0;36m40\u001b[0m\u001b[0;34m]\u001b[0m\u001b[0;34m,\u001b[0m\u001b[0;34m\u001b[0m\u001b[0;34m\u001b[0m\u001b[0m\n\u001b[0m\u001b[1;32m      5\u001b[0m     \u001b[0;34m'Score'\u001b[0m\u001b[0;34m[\u001b[0m\u001b[0;36m88\u001b[0m\u001b[0;34m,\u001b[0m\u001b[0;36m76\u001b[0m\u001b[0;34m,\u001b[0m\u001b[0;36m90\u001b[0m\u001b[0;34m,\u001b[0m\u001b[0;36m85\u001b[0m\u001b[0;34m,\u001b[0m\u001b[0;36m79\u001b[0m\u001b[0;34m,\u001b[0m\u001b[0;36m92\u001b[0m\u001b[0;34m]\u001b[0m\u001b[0;34m\u001b[0m\u001b[0;34m\u001b[0m\u001b[0m\n\u001b[1;32m      6\u001b[0m }\n",
            "\u001b[0;31mTypeError\u001b[0m: string indices must be integers, not 'tuple'"
          ]
        }
      ]
    },
    {
      "cell_type": "markdown",
      "source": [
        "ques 16-**Plot a boxplot to understand the spread and identify outliers**"
      ],
      "metadata": {
        "id": "6_f28CYoS-Hq"
      }
    },
    {
      "cell_type": "code",
      "source": [
        "import pandas as pd\n",
        "import matplotlib.pyplot as plt\n",
        "import seaborn as sns\n",
        "\n",
        "df = pd.read_csc('your_file.csv')\n",
        "sns.boxplot(x=df['column_name'])\n",
        "plt.title('Boxplot of columne_name')\n",
        "plt.xlabel('column_name')\n",
        "plt.show()\n"
      ],
      "metadata": {
        "colab": {
          "base_uri": "https://localhost:8080/",
          "height": 211
        },
        "id": "4cEulzUbD03P",
        "outputId": "e8338a3b-0a6c-4ee9-def2-d84996f52293"
      },
      "execution_count": null,
      "outputs": [
        {
          "output_type": "error",
          "ename": "AttributeError",
          "evalue": "module 'pandas' has no attribute 'read_csc'",
          "traceback": [
            "\u001b[0;31m---------------------------------------------------------------------------\u001b[0m",
            "\u001b[0;31mAttributeError\u001b[0m                            Traceback (most recent call last)",
            "\u001b[0;32m<ipython-input-16-51379a047183>\u001b[0m in \u001b[0;36m<cell line: 0>\u001b[0;34m()\u001b[0m\n\u001b[1;32m      3\u001b[0m \u001b[0;32mimport\u001b[0m \u001b[0mseaborn\u001b[0m \u001b[0;32mas\u001b[0m \u001b[0msns\u001b[0m\u001b[0;34m\u001b[0m\u001b[0;34m\u001b[0m\u001b[0m\n\u001b[1;32m      4\u001b[0m \u001b[0;34m\u001b[0m\u001b[0m\n\u001b[0;32m----> 5\u001b[0;31m \u001b[0mdf\u001b[0m \u001b[0;34m=\u001b[0m \u001b[0mpd\u001b[0m\u001b[0;34m.\u001b[0m\u001b[0mread_csc\u001b[0m\u001b[0;34m(\u001b[0m\u001b[0;34m'your_file.csv'\u001b[0m\u001b[0;34m)\u001b[0m\u001b[0;34m\u001b[0m\u001b[0;34m\u001b[0m\u001b[0m\n\u001b[0m\u001b[1;32m      6\u001b[0m \u001b[0msns\u001b[0m\u001b[0;34m.\u001b[0m\u001b[0mboxplot\u001b[0m\u001b[0;34m(\u001b[0m\u001b[0mx\u001b[0m\u001b[0;34m=\u001b[0m\u001b[0mdf\u001b[0m\u001b[0;34m[\u001b[0m\u001b[0;34m'column_name'\u001b[0m\u001b[0;34m]\u001b[0m\u001b[0;34m)\u001b[0m\u001b[0;34m\u001b[0m\u001b[0;34m\u001b[0m\u001b[0m\n\u001b[1;32m      7\u001b[0m \u001b[0mplt\u001b[0m\u001b[0;34m.\u001b[0m\u001b[0mtitle\u001b[0m\u001b[0;34m(\u001b[0m\u001b[0;34m'Boxplot of columne_name'\u001b[0m\u001b[0;34m)\u001b[0m\u001b[0;34m\u001b[0m\u001b[0;34m\u001b[0m\u001b[0m\n",
            "\u001b[0;31mAttributeError\u001b[0m: module 'pandas' has no attribute 'read_csc'"
          ]
        }
      ]
    },
    {
      "cell_type": "markdown",
      "source": [
        "ques 17-**Calculate the interquartile range (IQR) of a dataset**"
      ],
      "metadata": {
        "id": "EVL_Gh2lT7mH"
      }
    },
    {
      "cell_type": "code",
      "source": [
        "import pandas as pd\n",
        "data  = pd.Series[7,15,23,35,46,43,49]\n",
        "IQR = data.quantitle(0.75) - data.quantitle(0.25)\n",
        "print(f\"IQR: {IQR}\")"
      ],
      "metadata": {
        "colab": {
          "base_uri": "https://localhost:8080/",
          "height": 193
        },
        "id": "L_z1jL6pUXmQ",
        "outputId": "09a5026f-3636-4443-ac33-aeb83b6c54ca"
      },
      "execution_count": null,
      "outputs": [
        {
          "output_type": "error",
          "ename": "AttributeError",
          "evalue": "module 'pandas' has no attribute 'series'",
          "traceback": [
            "\u001b[0;31m---------------------------------------------------------------------------\u001b[0m",
            "\u001b[0;31mAttributeError\u001b[0m                            Traceback (most recent call last)",
            "\u001b[0;32m<ipython-input-18-93a0d1894aec>\u001b[0m in \u001b[0;36m<cell line: 0>\u001b[0;34m()\u001b[0m\n\u001b[1;32m      1\u001b[0m \u001b[0;32mimport\u001b[0m \u001b[0mpandas\u001b[0m \u001b[0;32mas\u001b[0m \u001b[0mpd\u001b[0m\u001b[0;34m\u001b[0m\u001b[0;34m\u001b[0m\u001b[0m\n\u001b[0;32m----> 2\u001b[0;31m \u001b[0mdata\u001b[0m  \u001b[0;34m=\u001b[0m \u001b[0mpd\u001b[0m\u001b[0;34m.\u001b[0m\u001b[0mseries\u001b[0m\u001b[0;34m[\u001b[0m\u001b[0;36m7\u001b[0m\u001b[0;34m,\u001b[0m\u001b[0;36m15\u001b[0m\u001b[0;34m,\u001b[0m\u001b[0;36m23\u001b[0m\u001b[0;34m,\u001b[0m\u001b[0;36m35\u001b[0m\u001b[0;34m,\u001b[0m\u001b[0;36m46\u001b[0m\u001b[0;34m,\u001b[0m\u001b[0;36m43\u001b[0m\u001b[0;34m,\u001b[0m\u001b[0;36m49\u001b[0m\u001b[0;34m]\u001b[0m\u001b[0;34m\u001b[0m\u001b[0;34m\u001b[0m\u001b[0m\n\u001b[0m\u001b[1;32m      3\u001b[0m \u001b[0mIQR\u001b[0m \u001b[0;34m=\u001b[0m \u001b[0mdata\u001b[0m\u001b[0;34m.\u001b[0m\u001b[0mquantitle\u001b[0m\u001b[0;34m(\u001b[0m\u001b[0;36m0.75\u001b[0m\u001b[0;34m)\u001b[0m \u001b[0;34m-\u001b[0m \u001b[0mdata\u001b[0m\u001b[0;34m.\u001b[0m\u001b[0mquantitle\u001b[0m\u001b[0;34m(\u001b[0m\u001b[0;36m0.25\u001b[0m\u001b[0;34m)\u001b[0m\u001b[0;34m\u001b[0m\u001b[0;34m\u001b[0m\u001b[0m\n\u001b[1;32m      4\u001b[0m \u001b[0mprint\u001b[0m\u001b[0;34m(\u001b[0m\u001b[0;34mf\"IQR: {IQR}\"\u001b[0m\u001b[0;34m)\u001b[0m\u001b[0;34m\u001b[0m\u001b[0;34m\u001b[0m\u001b[0m\n",
            "\u001b[0;31mAttributeError\u001b[0m: module 'pandas' has no attribute 'series'"
          ]
        }
      ]
    },
    {
      "cell_type": "markdown",
      "source": [
        "ques 18-**Implement Z-score normalization and explain its significance**"
      ],
      "metadata": {
        "id": "cFjvS_CeU2g7"
      }
    },
    {
      "cell_type": "code",
      "source": [
        "import pandas as pd\n",
        "from scipy import stats\n",
        "data = pd.Series([10,12,23,23,16,23,21,16])\n",
        "z_scores = stats.zscore(data)\n",
        "print(\"Z-scores:\")\n",
        "print(z_scores)"
      ],
      "metadata": {
        "colab": {
          "base_uri": "https://localhost:8080/"
        },
        "id": "6-2FUcDjT6Jj",
        "outputId": "d5516c78-6700-4da9-b80b-4089566bf639"
      },
      "execution_count": null,
      "outputs": [
        {
          "output_type": "stream",
          "name": "stdout",
          "text": [
            "Z-scores:\n",
            "[-1.63299316 -1.22474487  1.02062073  1.02062073 -0.40824829  1.02062073\n",
            "  0.61237244 -0.40824829]\n"
          ]
        }
      ]
    },
    {
      "cell_type": "markdown",
      "source": [
        "ques 19**Compare two datasets using their standard deviations>\n",
        "**"
      ],
      "metadata": {
        "id": "p-mHgHajWzwM"
      }
    },
    {
      "cell_type": "code",
      "source": [
        "data1 = [10,12,23,16,23,16]\n",
        "data2 =[5,7,19,30]\n",
        "std_dev_1= np.std(dataset1)\n",
        "std_dev_2=np.std(dataset2)\n",
        "print(f\"Standar Deviation of Dataset 1:{std_dev_1}\")\n",
        "print(f\"Standard  Deviationof Dataset 2:{std_dev_2}\")\n",
        "if std_dev_1 > std_dev_2:\n",
        "  print(\"Dataset 2 has higher variability.\")\n",
        "elif std_dev_1 <std_dev_2:\n",
        "  print(\"Dataset 2 has higher variability.\")\n",
        "else:\n",
        "  print(\"Both datasets have the same variability\")"
      ],
      "metadata": {
        "colab": {
          "base_uri": "https://localhost:8080/"
        },
        "id": "bFSGgicDW5SJ",
        "outputId": "95bf74b8-7478-401f-daa6-8a099e1d23c6"
      },
      "execution_count": null,
      "outputs": [
        {
          "output_type": "stream",
          "name": "stdout",
          "text": [
            "Standar Deviation of Dataset 1:1.4142135623730951\n",
            "Standard  Deviationof Dataset 2:2.8284271247461903\n",
            "Dataset 2 has higher variability.\n"
          ]
        }
      ]
    },
    {
      "cell_type": "markdown",
      "source": [
        "ques 20-**Write a Python program to visualize covariance using a heatmap**"
      ],
      "metadata": {
        "id": "kGoHtEWCbDMz"
      }
    },
    {
      "cell_type": "code",
      "source": [
        "import seaborn as sns\n",
        "import matplotlib.pyplot as plt\n",
        "import numpy as np\n",
        "scopes = [\"Built-in\", \"Z\", \"sum\", \"len\"]\n",
        "scope_matrix = [\n",
        "    [1,1,0,1,1],\n",
        "    [1,1,1,1,1],\n",
        "    [0,1,1,0,1],\n",
        "    [1,1,1,0,1]\n",
        "]\n",
        "data = np.array(scope__matrix)\n",
        "plt.figure(figsize=(10,6))\n",
        "sns.heatmap=(data, annot=True, cmap=\"YiGnBu\",xticklabels=variables , yticklabels=scopes,\n",
        "             cbar=False)\n",
        "plt.title(\"Variable Accessibility Across Scopes\")\n",
        "plt.xlabel(\"Variables\")\n",
        "plt.ylabel(\"Scope Levels\")\n",
        "plt.tight_layout()\n",
        "plt.show()"
      ],
      "metadata": {
        "id": "w0kA8hKuhH6Z",
        "colab": {
          "base_uri": "https://localhost:8080/",
          "height": 106
        },
        "outputId": "dfd91486-b171-4211-e113-f90498736d8c"
      },
      "execution_count": 2,
      "outputs": [
        {
          "output_type": "error",
          "ename": "SyntaxError",
          "evalue": "invalid syntax. Maybe you meant '==' or ':=' instead of '='? (<ipython-input-2-128afe6eec6c>, line 13)",
          "traceback": [
            "\u001b[0;36m  File \u001b[0;32m\"<ipython-input-2-128afe6eec6c>\"\u001b[0;36m, line \u001b[0;32m13\u001b[0m\n\u001b[0;31m    sns.heatmap=(data, annot=True, cmap=\"YiGnBu\",xticklabels=variables , yticklabels=scopes,\u001b[0m\n\u001b[0m                       ^\u001b[0m\n\u001b[0;31mSyntaxError\u001b[0m\u001b[0;31m:\u001b[0m invalid syntax. Maybe you meant '==' or ':=' instead of '='?\n"
          ]
        }
      ]
    },
    {
      "cell_type": "markdown",
      "source": [
        "ques21-**Use seaborn to create a correlation matrix for a dataset**"
      ],
      "metadata": {
        "id": "1g63ZpN6SORh"
      }
    },
    {
      "cell_type": "code",
      "source": [
        "import seaborn as sns\n",
        "import matplotlib.pyplot as plt\n",
        "df = sns.load_dataset(\"iris\")\n",
        "corr_matrix = df.corr(numeric_only=True)\n",
        "plt.figure(figsize=(8,6))\n",
        "sns.heatmap(corr_matrix,annot=True,cmap=\"coolwarm\",fmt=\".2f\", linewidths=0.5)\n",
        "plt.title(\"Correlation Matrix of Iris Dataset\")\n",
        "plt.tight_layout()\n",
        "plt.show()"
      ],
      "metadata": {
        "colab": {
          "base_uri": "https://localhost:8080/",
          "height": 607
        },
        "id": "oZAalieOSWAm",
        "outputId": "96c18614-4b49-4490-b242-291c310ca917"
      },
      "execution_count": 3,
      "outputs": [
        {
          "output_type": "display_data",
          "data": {
            "text/plain": [
              "<Figure size 800x600 with 2 Axes>"
            ],
            "image/png": "[encoded data removed]"
          },
          "metadata": {}
        }
      ]
    },
    {
      "cell_type": "markdown",
      "source": [
        "ques 22-**Generate a dataset and implement both variance and standard deviation computations**"
      ],
      "metadata": {
        "id": "pEBoZsFnTbVk"
      }
    },
    {
      "cell_type": "code",
      "source": [
        "import math\n",
        "\n",
        "# Sample dataset\n",
        "data = [10, 12, 23, 23, 16, 23, 21, 16]\n",
        "\n",
        "# Step 1: Calculate the mean\n",
        "mean = sum(data) / len(data)\n",
        "\n",
        "# Step 2: Compute variance\n",
        "squared_diffs = [(x - mean) ** 2 for x in data]\n",
        "variance = sum(squared_diffs) / len(data)  # For population variance\n",
        "# variance = sum(squared_diffs) / (len(data) - 1)  # Use this for sample variance\n",
        "\n",
        "# Step 3: Compute standard deviation\n",
        "std_deviation = math.sqrt(variance)\n",
        "\n",
        "# Display results\n",
        "print(f\"Mean: {mean}\")\n",
        "print(f\"Variance: {variance}\")\n",
        "print(f\"Standard Deviation: {std_deviation}\")"
      ],
      "metadata": {
        "colab": {
          "base_uri": "https://localhost:8080/"
        },
        "id": "wtPMpOY6Te6L",
        "outputId": "54c4a234-7b7a-4761-8735-e6a7cb5b61bb"
      },
      "execution_count": 4,
      "outputs": [
        {
          "output_type": "stream",
          "name": "stdout",
          "text": [
            "Mean: 18.0\n",
            "Variance: 24.0\n",
            "Standard Deviation: 4.898979485566356\n"
          ]
        }
      ]
    },
    {
      "cell_type": "markdown",
      "source": [
        "ques 23-**Visualize skewness and kurtosis using Python libraries like matplotlib or seaborn**"
      ],
      "metadata": {
        "id": "qkvz_ukYUXfV"
      }
    },
    {
      "cell_type": "code",
      "source": [
        "import matplotlib.pyplot as plt\n",
        "import seaborn as sns\n",
        "from scipy.stats import skew, kurtosis\n",
        "import numpy as np\n",
        "\n",
        "# Sample dataset\n",
        "data = [10, 12, 23, 23, 16, 23, 21, 16]\n",
        "\n",
        "# Calculate skewness and kurtosis\n",
        "data_skew = skew(data)\n",
        "data_kurt = kurtosis(data, fisher=False)  # fisher=False gives Pearson's kurtosis\n",
        "\n",
        "# Visualization\n",
        "plt.figure(figsize=(10, 5))\n",
        "sns.histplot(data, kde=True, bins=10, color='skyblue')\n",
        "\n",
        "# Annotate skewness and kurtosis on the plot\n",
        "plt.title(\"Distribution with Skewness and Kurtosis\")\n",
        "plt.xlabel(\"Values\")\n",
        "plt.ylabel(\"Frequency\")\n",
        "plt.axvline(np.mean(data), color='red', linestyle='dashed', linewidth=1)\n",
        "plt.text(min(data), 1, f\"Skewness: {data_skew:.2f}\\nKurtosis: {data_kurt:.2f}\",\n",
        "         fontsize=12, bbox=dict(facecolor='white', alpha=0.5))\n",
        "\n",
        "plt.show()"
      ],
      "metadata": {
        "colab": {
          "base_uri": "https://localhost:8080/",
          "height": 487
        },
        "id": "A8zdSmo7UZm1",
        "outputId": "1427d11d-d67f-4c0b-8c17-c13758b6ec45"
      },
      "execution_count": 5,
      "outputs": [
        {
          "output_type": "display_data",
          "data": {
            "text/plain": [
              "<Figure size 1000x500 with 1 Axes>"
            ],
            "image/png": "[encoded data removed]"
          },
          "metadata": {}
        }
      ]
    },
    {
      "cell_type": "markdown",
      "source": [
        "ques 24-**Implement the Pearson and Spearman correlation coefficients for a dataset.**"
      ],
      "metadata": {
        "id": "Wm0_n5PTUmzb"
      }
    },
    {
      "cell_type": "code",
      "source": [
        "import numpy as np\n",
        "from scipy.stats import spearmanr, pearsonr, rankdata\n",
        "\n",
        "# Sample dataset\n",
        "x = np.array([10, 20, 30, 40, 50])\n",
        "y = np.array([15, 25, 35, 45, 55])  # Perfect positive linear relationship\n",
        "\n",
        "# --- Pearson Correlation (Manual Implementation) ---\n",
        "def pearson_corr(x, y):\n",
        "    mean_x = np.mean(x)\n",
        "    mean_y = np.mean(y)\n",
        "    numerator = np.sum((x - mean_x) * (y - mean_y))\n",
        "    denominator = np.sqrt(np.sum((x - mean_x)**2) * np.sum((y - mean_y)**2))\n",
        "    return numerator / denominator\n",
        "\n",
        "# --- Spearman Correlation (Manual Implementation) ---\n",
        "def spearman_corr(x, y):\n",
        "    rank_x = rankdata(x)\n",
        "    rank_y = rankdata(y)\n",
        "    return pearson_corr(rank_x, rank_y)\n",
        "\n",
        "# --- Compute Correlations ---\n",
        "pearson_manual = pearson_corr(x, y)\n",
        "spearman_manual = spearman_corr(x, y)\n",
        "\n",
        "# --- Validate with scipy.stats ---\n",
        "pearson_lib, _ = pearsonr(x, y)\n",
        "spearman_lib, _ = spearmanr(x, y)\n",
        "\n",
        "# --- Output ---\n",
        "print(f\"Pearson Correlation (manual): {pearson_manual:.4f}\")\n",
        "print(f\"Pearson Correlation (library): {pearson_lib:.4f}\")\n",
        "print(f\"Spearman Correlation (manual): {spearman_manual:.4f}\")\n",
        "print(f\"Spearman Correlation (library): {spearman_lib:.4f}\")"
      ],
      "metadata": {
        "id": "GErDAga-WYnh",
        "colab": {
          "base_uri": "https://localhost:8080/"
        },
        "outputId": "4144e2eb-99d9-4933-9238-7b79bcd6978a"
      },
      "execution_count": 6,
      "outputs": [
        {
          "output_type": "stream",
          "name": "stdout",
          "text": [
            "Pearson Correlation (manual): 1.0000\n",
            "Pearson Correlation (library): 1.0000\n",
            "Spearman Correlation (manual): 1.0000\n",
            "Spearman Correlation (library): 1.0000\n"
          ]
        }
      ]
    },
    {
      "cell_type": "code",
      "source": [],
      "metadata": {
        "id": "vU7W-pF9U2WL"
      },
      "execution_count": null,
      "outputs": []
    }
  ]
}